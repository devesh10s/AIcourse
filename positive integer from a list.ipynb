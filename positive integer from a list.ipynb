{
 "cells": [
  {
   "cell_type": "code",
   "execution_count": 6,
   "metadata": {},
   "outputs": [
    {
     "name": "stdout",
     "output_type": "stream",
     "text": [
      "Enter number of elements : 2\n",
      "-7\n",
      "9\n",
      "[-7, 9]\n",
      "9\n"
     ]
    }
   ],
   "source": [
    "l1=[] \n",
    "n = int(input(\"Enter number of elements : \")) \n",
    "\n",
    "for i in range(0, n): \n",
    "    ele = int(input()) \n",
    "\n",
    "    l1.append(ele)\n",
    "      \n",
    "print(l1)\n",
    "for i in l1:\n",
    "    if i > 0:\n",
    "        print(i)"
   ]
  },
  {
   "cell_type": "markdown",
   "metadata": {},
   "source": [
    "## "
   ]
  }
 ],
 "metadata": {
  "kernelspec": {
   "display_name": "Python 3",
   "language": "python",
   "name": "python3"
  },
  "language_info": {
   "codemirror_mode": {
    "name": "ipython",
    "version": 3
   },
   "file_extension": ".py",
   "mimetype": "text/x-python",
   "name": "python",
   "nbconvert_exporter": "python",
   "pygments_lexer": "ipython3",
   "version": "3.7.6"
  }
 },
 "nbformat": 4,
 "nbformat_minor": 4
}
